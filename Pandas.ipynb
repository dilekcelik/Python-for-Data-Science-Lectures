{
 "cells": [
  {
   "cell_type": "markdown",
   "metadata": {},
   "source": [
    "# PANDAS\n",
    "\n",
    "* Introduction to Pandas\n",
    "* DataFrames and Series\n",
    "* How To View Data?\n",
    "* Selecting Data\n",
    "* Handling Missing Data\n",
    "* Pandas Operations\n",
    "* Merge, Group, Reshape Data\n",
    "* Time Series And Categoricals\n",
    "* Plotting Using Pandas\n",
    "\n",
    "\n",
    "0:45 - Why Pandas?\n",
    "1:46 - Installing Pandas\n",
    "2:03 - Getting the data used in this video\n",
    "3:50 - Loading the data into Pandas (CSVs, Excel, TXTs, etc.)\n",
    "8:49 - Reading Data (Getting Rows, Columns, Cells, Headers, etc.)\n",
    "13:10 - Iterate through each Row\n",
    "14:11 - Getting rows based on a specific condition\n",
    "15:47 - High Level description of your data (min, max, mean, std dev, etc.)\n",
    "16:24 - Sorting Values (Alphabetically, Numerically)\n",
    "18:19 - Making Changes to the DataFrame\n",
    "18:56 - Adding a column\n",
    "21:22 - Deleting a column\n",
    "22:14 - Summing Multiple Columns to Create new Column.\n",
    "24:14 - Rearranging columns\n",
    "28:06 - Saving our Data (CSV, Excel, TXT, etc.)\n",
    "31:47 - Filtering Data (based on multiple conditions)\n",
    "35:40 - Reset Index\n",
    "37:41 - Regex Filtering (filter based on textual patterns)\n",
    "43:08 - Conditional Changes\n",
    "47:57 - Aggregate Statistics using Groupby (Sum, Mean, Counting)\n",
    "54:53 - Working with large amounts of data (setting chunksize)"
   ]
  },
  {
   "cell_type": "code",
   "execution_count": null,
   "metadata": {},
   "outputs": [],
   "source": []
  }
 ],
 "metadata": {
  "kernelspec": {
   "display_name": "Python 3",
   "language": "python",
   "name": "python3"
  },
  "language_info": {
   "codemirror_mode": {
    "name": "ipython",
    "version": 3
   },
   "file_extension": ".py",
   "mimetype": "text/x-python",
   "name": "python",
   "nbconvert_exporter": "python",
   "pygments_lexer": "ipython3",
   "version": "3.6.8"
  }
 },
 "nbformat": 4,
 "nbformat_minor": 2
}

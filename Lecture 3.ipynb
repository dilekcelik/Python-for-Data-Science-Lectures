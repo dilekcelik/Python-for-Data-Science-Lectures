{
 "cells": [
  {
   "cell_type": "markdown",
   "metadata": {},
   "source": [
    "# PYTHON FOR DATA SCIENCE\n",
    "## LECTURE 3\n",
    "### DR DILEK CELIK"
   ]
  },
  {
   "attachments": {},
   "cell_type": "markdown",
   "metadata": {},
   "source": [
    "- for loops\n",
    "- while loops\n",
    "- for-else loop\n",
    "- while-else loop\n",
    "- Nested loops"
   ]
  },
  {
   "cell_type": "markdown",
   "metadata": {},
   "source": [
    "### for loop – iterable data types"
   ]
  },
  {
   "cell_type": "code",
   "execution_count": 1,
   "metadata": {},
   "outputs": [
    {
     "name": "stdout",
     "output_type": "stream",
     "text": [
      "Current letter: t\n",
      "Current letter: r\n",
      "Current letter: a\n",
      "Current letter: i\n",
      "Current letter: n\n"
     ]
    }
   ],
   "source": [
    "# looping through a string sequence\n",
    "for i in \"train\":\n",
    "    print(\"Current letter: \" + i)"
   ]
  },
  {
   "attachments": {},
   "cell_type": "markdown",
   "metadata": {},
   "source": [
    "### range() function"
   ]
  },
  {
   "cell_type": "code",
   "execution_count": 2,
   "metadata": {},
   "outputs": [
    {
     "name": "stdout",
     "output_type": "stream",
     "text": [
      "range(0, 3)\n"
     ]
    }
   ],
   "source": [
    "print(range(3)) # a range object, numbers are not generated yet"
   ]
  },
  {
   "cell_type": "code",
   "execution_count": 3,
   "metadata": {},
   "outputs": [
    {
     "name": "stdout",
     "output_type": "stream",
     "text": [
      "[0, 1, 2]\n"
     ]
    }
   ],
   "source": [
    "print(list(range(3))) # display all the elements returned by range()"
   ]
  },
  {
   "cell_type": "code",
   "execution_count": 4,
   "metadata": {},
   "outputs": [
    {
     "name": "stdout",
     "output_type": "stream",
     "text": [
      "line 01: [0, 1, 2, 3, 4, 5, 6]\n",
      "line 02: [0, 1, 2, 3, 4, 5, 6]\n",
      "line 03: [3, 4, 5, 6]\n",
      "line 04: [3, 5]\n",
      "line 05: []\n"
     ]
    }
   ],
   "source": [
    "print(\"line 01:\", list(range(7))) # generates numbers from 0 to 7 (exclusive)\n",
    "print(\"line 02:\", list(range(0,7))) # generates numbers from 0 to 7 (exclusive)\n",
    "print(\"line 03:\", list(range(3,7))) # generates numbers from 3 to 7 (exclusive)\n",
    "print(\"line 04:\", list(range(3,7,2))) # generates numbers from 3 to 7(exclusive) with a step of 2\n",
    "print(\"line 05:\", list(range(-2, -20, 2))) # range with a step of -2 , counting backward"
   ]
  },
  {
   "cell_type": "code",
   "execution_count": 6,
   "metadata": {
    "scrolled": true
   },
   "outputs": [
    {
     "name": "stdout",
     "output_type": "stream",
     "text": [
      "2**0 =  1\n",
      "2**1 =  2\n",
      "2**2 =  4\n",
      "2**3 =  8\n",
      "2**4 =  16\n",
      "2**5 =  32\n",
      "2**6 =  64\n",
      "2**7 =  128\n",
      "2**8 =  256\n",
      "2**9 =  512\n"
     ]
    }
   ],
   "source": [
    "#for loops iterating over a range()\n",
    "for i in range(0,10,1):\n",
    "    print(\"2**\" + str(i) + \" = \", 2**i)"
   ]
  },
  {
   "cell_type": "markdown",
   "metadata": {},
   "source": [
    "### Infinite Loops"
   ]
  },
  {
   "cell_type": "code",
   "execution_count": 8,
   "metadata": {
    "scrolled": false
   },
   "outputs": [
    {
     "ename": "SyntaxError",
     "evalue": "invalid syntax (<ipython-input-8-2d196d735672>, line 6)",
     "output_type": "error",
     "traceback": [
      "\u001b[0;36m  File \u001b[0;32m\"<ipython-input-8-2d196d735672>\"\u001b[0;36m, line \u001b[0;32m6\u001b[0m\n\u001b[0;31m    num = num + 1 -\u001b[0m\n\u001b[0m                   ^\u001b[0m\n\u001b[0;31mSyntaxError\u001b[0m\u001b[0;31m:\u001b[0m invalid syntax\n"
     ]
    }
   ],
   "source": [
    "# Example of a logical error\n",
    "# WARNING: infinite loop\n",
    "num = 1;\n",
    "while (num > 0):\n",
    "    print(num)\n",
    "    num = num + 1"
   ]
  },
  {
   "cell_type": "code",
   "execution_count": null,
   "metadata": {},
   "outputs": [],
   "source": [
    "# WARNING: infinite loop\n",
    "num = 0.1\n",
    "while num != 1:\n",
    "    print(num)\n",
    "    num += 0.1\n"
   ]
  },
  {
   "cell_type": "markdown",
   "metadata": {},
   "source": [
    "### break"
   ]
  },
  {
   "cell_type": "code",
   "execution_count": 12,
   "metadata": {},
   "outputs": [
    {
     "name": "stdout",
     "output_type": "stream",
     "text": [
      "Current letter : d\n",
      "Current letter : e\n",
      "Current letter : g\n",
      "Outside the for loop.\n"
     ]
    }
   ],
   "source": [
    "# Example use of 'break' in a for loop\n",
    "for character in 'degree':\n",
    "    if character == 'r':\n",
    "        break\n",
    "    print('Current letter :', character)\n",
    "print('Outside the for loop.')"
   ]
  },
  {
   "cell_type": "code",
   "execution_count": 13,
   "metadata": {},
   "outputs": [
    {
     "name": "stdout",
     "output_type": "stream",
     "text": [
      "Current value is : 6\n",
      "Current value is : 5\n",
      "Current value is : 4\n",
      "Outside the while loop.\n"
     ]
    }
   ],
   "source": [
    "# Example use of 'break' in a while loop\n",
    "num = 6\n",
    "while num > 0:\n",
    "    print('Current value is :', num)\n",
    "    num = num -1\n",
    "    if num == 3:\n",
    "        break\n",
    "print('Outside the while loop.')"
   ]
  },
  {
   "cell_type": "markdown",
   "metadata": {},
   "source": [
    "### continue"
   ]
  },
  {
   "cell_type": "code",
   "execution_count": 16,
   "metadata": {},
   "outputs": [
    {
     "name": "stdout",
     "output_type": "stream",
     "text": [
      "Current letter : d\n",
      "Current letter : e\n",
      "Current letter : g\n",
      "Current letter : e\n",
      "Current letter : e\n",
      "Outside the for loop.\n"
     ]
    }
   ],
   "source": [
    "# Example use of 'continue' in a for loop\n",
    "for character in 'degree':\n",
    "    if character == 'r':\n",
    "        continue\n",
    "    print('Current letter :', character)\n",
    "print('Outside the for loop.')"
   ]
  },
  {
   "cell_type": "code",
   "execution_count": 17,
   "metadata": {},
   "outputs": [
    {
     "name": "stdout",
     "output_type": "stream",
     "text": [
      "Current value is : 0\n",
      "Outside the while loop.\n"
     ]
    }
   ],
   "source": [
    "# Example use of 'continue' in a while loop\n",
    "num = 6\n",
    "while num > 0:\n",
    "    num = num -1\n",
    "    if num == 3:\n",
    "        continue\n",
    "print('Current value is :', num)\n",
    "print('Outside the while loop.')"
   ]
  },
  {
   "cell_type": "markdown",
   "metadata": {},
   "source": [
    "### pass"
   ]
  },
  {
   "cell_type": "code",
   "execution_count": 19,
   "metadata": {
    "scrolled": true
   },
   "outputs": [
    {
     "name": "stdout",
     "output_type": "stream",
     "text": [
      "Number is  0\n",
      "Number is  1\n",
      "Number is  2\n",
      "This is the pass block\n",
      "Number is  3\n",
      "Number is  4\n",
      "Done.\n"
     ]
    }
   ],
   "source": [
    "# Example use of 'pass' in a for loop\n",
    "x = 0\n",
    "for x in range(5):\n",
    "    if x == 3:\n",
    "        pass # do nothing \n",
    "        print('This is the pass block')\n",
    "    print('Number is ', x)\n",
    "print('Done.')"
   ]
  },
  {
   "cell_type": "code",
   "execution_count": 20,
   "metadata": {},
   "outputs": [
    {
     "ename": "KeyboardInterrupt",
     "evalue": "",
     "output_type": "error",
     "traceback": [
      "\u001b[0;31m---------------------------------------------------------------------------\u001b[0m",
      "\u001b[0;31mKeyboardInterrupt\u001b[0m                         Traceback (most recent call last)",
      "\u001b[0;32m<ipython-input-20-c0c7113e2d9f>\u001b[0m in \u001b[0;36m<module>\u001b[0;34m()\u001b[0m\n\u001b[1;32m      2\u001b[0m \u001b[0;31m# Example use of 'pass' in a while loop\u001b[0m\u001b[0;34m\u001b[0m\u001b[0;34m\u001b[0m\u001b[0;34m\u001b[0m\u001b[0m\n\u001b[1;32m      3\u001b[0m \u001b[0mis_running\u001b[0m \u001b[0;34m=\u001b[0m \u001b[0;32mTrue\u001b[0m\u001b[0;34m\u001b[0m\u001b[0;34m\u001b[0m\u001b[0m\n\u001b[0;32m----> 4\u001b[0;31m \u001b[0;32mwhile\u001b[0m \u001b[0mis_running\u001b[0m\u001b[0;34m:\u001b[0m\u001b[0;34m\u001b[0m\u001b[0;34m\u001b[0m\u001b[0m\n\u001b[0m\u001b[1;32m      5\u001b[0m     \u001b[0;32mpass\u001b[0m\u001b[0;34m\u001b[0m\u001b[0;34m\u001b[0m\u001b[0m\n",
      "\u001b[0;31mKeyboardInterrupt\u001b[0m: "
     ]
    }
   ],
   "source": [
    "# WARNING: infinite loop\n",
    "# Example use of 'pass' in a while loop\n",
    "is_running = True\n",
    "while is_running:\n",
    "    pass"
   ]
  },
  {
   "cell_type": "markdown",
   "metadata": {},
   "source": [
    "### for-else loop"
   ]
  },
  {
   "cell_type": "code",
   "execution_count": 21,
   "metadata": {
    "scrolled": true
   },
   "outputs": [
    {
     "name": "stdout",
     "output_type": "stream",
     "text": [
      "0\n",
      "1\n",
      "2\n",
      "Finished processing data!\n"
     ]
    }
   ],
   "source": [
    "# Example of a for-else loop\n",
    "for i in range(3):\n",
    "    print(i)\n",
    "else:\n",
    "    print(\"Finished processing data!\")"
   ]
  },
  {
   "cell_type": "markdown",
   "metadata": {},
   "source": [
    "### while-else loop"
   ]
  },
  {
   "cell_type": "code",
   "execution_count": 23,
   "metadata": {},
   "outputs": [
    {
     "name": "stdout",
     "output_type": "stream",
     "text": [
      "0\n",
      "1\n",
      "2\n",
      "Finished processing data!\n"
     ]
    }
   ],
   "source": [
    "# example of a while-else loop\n",
    "x = 0\n",
    "while x < 3:\n",
    "    print(x)\n",
    "    x = x +1\n",
    "else:\n",
    "    print(\"Finished processing data!\")"
   ]
  },
  {
   "cell_type": "markdown",
   "metadata": {},
   "source": [
    "### nested loops"
   ]
  },
  {
   "cell_type": "code",
   "execution_count": 26,
   "metadata": {
    "scrolled": true
   },
   "outputs": [
    {
     "name": "stdout",
     "output_type": "stream",
     "text": [
      "(0,0)\n",
      "(0,1)\n",
      "Finished creating pairs for i =0\n",
      "(1,0)\n",
      "(1,1)\n",
      "Finished creating pairs for i =1\n"
     ]
    }
   ],
   "source": [
    "# example nested for loop\n",
    "for i in range(2):\n",
    "    for j in range(2):\n",
    "        print(\"(\"+str(i)+\",\"+str(j)+\")\")\n",
    "    print(\"Finished creating pairs for i =\" + str(i))\n"
   ]
  },
  {
   "cell_type": "code",
   "execution_count": 31,
   "metadata": {},
   "outputs": [
    {
     "name": "stdout",
     "output_type": "stream",
     "text": [
      "(0,0)\n",
      "(0,1)\n",
      "---\n"
     ]
    }
   ],
   "source": [
    "#Example nested 'while’ loops\n",
    "x=0\n",
    "while x<1:\n",
    "    y=0\n",
    "    while y<2:\n",
    "        print(\"(\"+str(x)+\",\"+str(y)+\")\")\n",
    "        y=y+1\n",
    "    x=x+1\n",
    "    print(\"---\")"
   ]
  },
  {
   "cell_type": "code",
   "execution_count": null,
   "metadata": {},
   "outputs": [],
   "source": []
  }
 ],
 "metadata": {
  "kernelspec": {
   "display_name": "Python 3",
   "language": "python",
   "name": "python3"
  },
  "language_info": {
   "codemirror_mode": {
    "name": "ipython",
    "version": 3
   },
   "file_extension": ".py",
   "mimetype": "text/x-python",
   "name": "python",
   "nbconvert_exporter": "python",
   "pygments_lexer": "ipython3",
   "version": "3.6.8"
  }
 },
 "nbformat": 4,
 "nbformat_minor": 2
}

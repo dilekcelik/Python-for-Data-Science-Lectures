{
 "cells": [
  {
   "cell_type": "markdown",
   "metadata": {},
   "source": [
    "# PYTHON FOR DATA SCIENCE\n",
    "## LECTURE 2\n",
    "### DR DILEK CELIK"
   ]
  },
  {
   "cell_type": "markdown",
   "metadata": {},
   "source": [
    "- Branching (Decision making)\n",
    "- Taking Input from the user\n",
    "- Operators"
   ]
  },
  {
   "cell_type": "markdown",
   "metadata": {},
   "source": [
    "### if keyword"
   ]
  },
  {
   "cell_type": "code",
   "execution_count": 2,
   "metadata": {},
   "outputs": [
    {
     "name": "stdout",
     "output_type": "stream",
     "text": [
      "x is greater\n",
      "Done.\n"
     ]
    }
   ],
   "source": [
    "x = 15\n",
    "if x > 5:\n",
    "    print(\"x is greater\")\n",
    "print(\"Done.\")"
   ]
  },
  {
   "cell_type": "markdown",
   "metadata": {},
   "source": [
    "### Indentation block"
   ]
  },
  {
   "cell_type": "code",
   "execution_count": 3,
   "metadata": {},
   "outputs": [
    {
     "name": "stdout",
     "output_type": "stream",
     "text": [
      "x is greater\n",
      "Done.\n"
     ]
    }
   ],
   "source": [
    "x = 12\n",
    "y = 8\n",
    "if x > y:\n",
    "    print(\"x is greater\")\n",
    "print(\"Done.\")"
   ]
  },
  {
   "cell_type": "code",
   "execution_count": 4,
   "metadata": {},
   "outputs": [
    {
     "ename": "IndentationError",
     "evalue": "expected an indented block (<ipython-input-4-009df52b421e>, line 4)",
     "output_type": "error",
     "traceback": [
      "\u001b[0;36m  File \u001b[0;32m\"<ipython-input-4-009df52b421e>\"\u001b[0;36m, line \u001b[0;32m4\u001b[0m\n\u001b[0;31m    print(\"Done.\") # an error will be raised\u001b[0m\n\u001b[0m        ^\u001b[0m\n\u001b[0;31mIndentationError\u001b[0m\u001b[0;31m:\u001b[0m expected an indented block\n"
     ]
    }
   ],
   "source": [
    "x = 12\n",
    "y = 8\n",
    "if x > y:\n",
    "print(\"Done.\") # an error will be raised"
   ]
  },
  {
   "cell_type": "markdown",
   "metadata": {},
   "source": [
    "### Multiple conditions"
   ]
  },
  {
   "cell_type": "code",
   "execution_count": 6,
   "metadata": {},
   "outputs": [
    {
     "name": "stdout",
     "output_type": "stream",
     "text": [
      "z is greater\n"
     ]
    }
   ],
   "source": [
    "# using logical and\n",
    "x, y, z = 8, 9, 10\n",
    "if z > x and z > y:\n",
    "    print('z is greater')"
   ]
  },
  {
   "cell_type": "code",
   "execution_count": 7,
   "metadata": {},
   "outputs": [
    {
     "name": "stdout",
     "output_type": "stream",
     "text": [
      "z is greater than x or y\n"
     ]
    }
   ],
   "source": [
    "# using logical or\n",
    "x, y, z = 8, 9, 10\n",
    "if z > x or z > y:\n",
    "    print('z is greater than x or y')"
   ]
  },
  {
   "cell_type": "code",
   "execution_count": 8,
   "metadata": {},
   "outputs": [
    {
     "name": "stdout",
     "output_type": "stream",
     "text": [
      "x is not greater than y\n"
     ]
    }
   ],
   "source": [
    "# using logical not\n",
    "x, y = 8, 9\n",
    "if not(x > y) :\n",
    "    print('x is not greater than y')"
   ]
  },
  {
   "cell_type": "code",
   "execution_count": 9,
   "metadata": {},
   "outputs": [
    {
     "name": "stdout",
     "output_type": "stream",
     "text": [
      "y is greater\n"
     ]
    }
   ],
   "source": [
    "x = 15\n",
    "y = 20\n",
    "if x > y:\n",
    "    print(\"x is greater\")\n",
    "else:\n",
    "    print(\"y is greater\")"
   ]
  },
  {
   "cell_type": "markdown",
   "metadata": {},
   "source": [
    "### elif keyword or chained conditions"
   ]
  },
  {
   "cell_type": "code",
   "execution_count": 10,
   "metadata": {},
   "outputs": [
    {
     "name": "stdout",
     "output_type": "stream",
     "text": [
      "Distinction\n"
     ]
    }
   ],
   "source": [
    "mark = 80\n",
    "if mark >= 70 and mark <= 100:\n",
    "    print(\"Distinction\")\n",
    "elif mark < 70 and mark >= 60:\n",
    "    print(\"Good\")\n",
    "elif mark < 60 and mark >= 50:\n",
    "    print(\"Pass\")\n",
    "else:\n",
    "    print(\"Fail\")"
   ]
  },
  {
   "cell_type": "markdown",
   "metadata": {},
   "source": [
    "### Short hand if"
   ]
  },
  {
   "cell_type": "code",
   "execution_count": 11,
   "metadata": {},
   "outputs": [
    {
     "name": "stdout",
     "output_type": "stream",
     "text": [
      "a and b are equal\n"
     ]
    }
   ],
   "source": [
    "a = 20\n",
    "b = 20\n",
    "if ( a == b ) : print (\"a and b are equal\")"
   ]
  },
  {
   "cell_type": "markdown",
   "metadata": {},
   "source": [
    "### Short hand If - Else in One Line"
   ]
  },
  {
   "cell_type": "code",
   "execution_count": 12,
   "metadata": {},
   "outputs": [
    {
     "name": "stdout",
     "output_type": "stream",
     "text": [
      "B\n"
     ]
    }
   ],
   "source": [
    "a = 2\n",
    "b = 330\n",
    "print(\"A\") if a > b else print(\"B\")"
   ]
  },
  {
   "cell_type": "markdown",
   "metadata": {},
   "source": [
    "### Nested if-elif-else"
   ]
  },
  {
   "cell_type": "code",
   "execution_count": 15,
   "metadata": {},
   "outputs": [
    {
     "name": "stdout",
     "output_type": "stream",
     "text": [
      "Enter a number: 10\n",
      "divisible by 5 and 2\n"
     ]
    }
   ],
   "source": [
    "x = int(input(\"Enter a number: \"))\n",
    "if x%2 == 0:\n",
    "\tif x%5 == 0:\n",
    "\t\tprint (\"divisible by 5 and 2\")\n",
    "\telse:\n",
    "\t\tprint (\"divisible by 2 not divisible by 5\")\n",
    "else:\n",
    "\tif x%5 == 0:\n",
    "\t\tprint (\"divisible by 5 not divisible by 2\")\n",
    "\telse:\n",
    "\t\tprint (\"not divisible by 2 not divisible by 5\")"
   ]
  },
  {
   "cell_type": "markdown",
   "metadata": {},
   "source": [
    "### Taking input from the user"
   ]
  },
  {
   "cell_type": "code",
   "execution_count": 16,
   "metadata": {},
   "outputs": [
    {
     "name": "stdout",
     "output_type": "stream",
     "text": [
      "Dilek\n",
      "You entered Dilek\n"
     ]
    }
   ],
   "source": [
    "user_input = input()\n",
    "print(\"You entered\" , user_input)"
   ]
  },
  {
   "cell_type": "code",
   "execution_count": 17,
   "metadata": {},
   "outputs": [
    {
     "name": "stdout",
     "output_type": "stream",
     "text": [
      "Enter a value: Celik\n",
      "You entered Celik\n"
     ]
    }
   ],
   "source": [
    "# Adding a prompt message\n",
    "\n",
    "user_input = input(\"Enter a value: \")\n",
    "print(\"You entered\" , user_input)"
   ]
  },
  {
   "cell_type": "markdown",
   "metadata": {},
   "source": [
    "### input() accepts strings by default"
   ]
  },
  {
   "cell_type": "code",
   "execution_count": 20,
   "metadata": {},
   "outputs": [
    {
     "name": "stdout",
     "output_type": "stream",
     "text": [
      "50\n",
      "You entered 50\n",
      "40\n",
      "Total =  60\n"
     ]
    }
   ],
   "source": [
    "my_input = input()\n",
    "print(\"You entered\" , my_input)\n",
    "\n",
    "my_input = int(input())\n",
    "print(\"Total = \", 20 + my_input)"
   ]
  },
  {
   "cell_type": "markdown",
   "metadata": {},
   "source": [
    "### Taking multiple inputs at a time"
   ]
  },
  {
   "cell_type": "code",
   "execution_count": 22,
   "metadata": {},
   "outputs": [
    {
     "name": "stdout",
     "output_type": "stream",
     "text": [
      "Enter the three values: 30 27 13\n",
      "Total number of students:  30\n",
      "Number of Female students is :  27\n",
      "Number of Male student is :  13\n"
     ]
    }
   ],
   "source": [
    "# taking three inputs at a time\n",
    "a, b, c = input(\"Enter the three values: \").split()\n",
    "\n",
    "print(\"Total number of students: \", a)\n",
    "print(\"Number of Female students is : \", b)\n",
    "print(\"Number of Male student is : \", c)"
   ]
  },
  {
   "cell_type": "markdown",
   "metadata": {},
   "source": [
    "### Arithmetic Operators"
   ]
  },
  {
   "cell_type": "code",
   "execution_count": 23,
   "metadata": {},
   "outputs": [
    {
     "name": "stdout",
     "output_type": "stream",
     "text": [
      "Line 1 - Value of z is  25\n",
      "Line 2 - Value of z is  5\n",
      "Line 3 - Value of z is  150\n",
      "Line 4 - Value of z is  1.5\n",
      "Line 5 - Value of z is  5\n",
      "Line 6 - Value of z is  576650390625\n",
      "Line 7 - Value of z is  1\n"
     ]
    }
   ],
   "source": [
    "x = 15; y = 10; z = 0\n",
    "z = x + y\n",
    "print (\"Line 1 - Value of z is \", z)\n",
    "\n",
    "z = x - y\n",
    "print (\"Line 2 - Value of z is \", z)\n",
    "\n",
    "z = x * y\n",
    "print (\"Line 3 - Value of z is \", z)\n",
    "\n",
    "z = x / y\n",
    "print (\"Line 4 - Value of z is \", z)\n",
    "\n",
    "z = x % y\n",
    "print (\"Line 5 - Value of z is \", z)\n",
    "\n",
    "z = x**y\n",
    "print (\"Line 6 - Value of z is \", z)\n",
    "\n",
    "z = x//y\n",
    "print (\"Line 7 - Value of z is \", z)"
   ]
  },
  {
   "cell_type": "markdown",
   "metadata": {},
   "source": [
    "### Comparison operators / Relational operators "
   ]
  },
  {
   "cell_type": "code",
   "execution_count": 24,
   "metadata": {},
   "outputs": [
    {
     "name": "stdout",
     "output_type": "stream",
     "text": [
      "Line 1 - a is equal to b False\n",
      "Line 2 - a is not equal to b True\n",
      "Line 3 - a is less than b False\n",
      "Line 4 - a is greater than b True\n",
      "Line 5 – a is less than or equal to b False\n",
      "Line 6 - a is greater than or equal to b True\n"
     ]
    }
   ],
   "source": [
    "a = 30\n",
    "b = 10\n",
    "\n",
    "print (\"Line 1 - a is equal to b\", a == b)\n",
    "print (\"Line 2 - a is not equal to b\", a != b)\n",
    "print (\"Line 3 - a is less than b\", a < b)\n",
    "print (\"Line 4 - a is greater than b\", a > b)\n",
    "print (\"Line 5 – a is less than or equal to b\", a <= b)\n",
    "print (\"Line 6 - a is greater than or equal to b\", a >= b)"
   ]
  },
  {
   "cell_type": "markdown",
   "metadata": {},
   "source": [
    "### Common pitfall!"
   ]
  },
  {
   "cell_type": "code",
   "execution_count": 26,
   "metadata": {},
   "outputs": [
    {
     "name": "stdout",
     "output_type": "stream",
     "text": [
      "False\n"
     ]
    }
   ],
   "source": [
    "a = \"30\"\n",
    "b = 10\n",
    "print(a == b)"
   ]
  },
  {
   "cell_type": "markdown",
   "metadata": {},
   "source": [
    "### Assignment operators"
   ]
  },
  {
   "cell_type": "code",
   "execution_count": 27,
   "metadata": {},
   "outputs": [
    {
     "name": "stdout",
     "output_type": "stream",
     "text": [
      "Line 1 - Value of c is  16\n",
      "Line 2 - Value of c is  26\n",
      "Line 3 - Value of c is  260\n",
      "Line 4 - Value of c is  26.0\n",
      "Line 5 - Value of c is  3\n",
      "Line 6 - Value of c is  59049\n",
      "Line 7 - Value of c is  5904\n"
     ]
    }
   ],
   "source": [
    "a, b, c = 10, 6, 0\n",
    "c = a + b\n",
    "print (\"Line 1 - Value of c is \", c)\n",
    "c += a\n",
    "print (\"Line 2 - Value of c is \", c)\n",
    "c *= a\n",
    "print (\"Line 3 - Value of c is \", c)\n",
    "c /= a\n",
    "print (\"Line 4 - Value of c is \", c)\n",
    "c = 3\n",
    "c %= a\n",
    "print (\"Line 5 - Value of c is \", c)\n",
    "c **= a\n",
    "print (\"Line 6 - Value of c is \", c)\n",
    "c //= a\n",
    "print (\"Line 7 - Value of c is \", c)\n",
    "\n",
    "# Warning: the value of c is changing so be careful not to use the first value of c = 0"
   ]
  },
  {
   "cell_type": "markdown",
   "metadata": {},
   "source": [
    "### Logical operators"
   ]
  },
  {
   "cell_type": "code",
   "execution_count": 28,
   "metadata": {},
   "outputs": [
    {
     "name": "stdout",
     "output_type": "stream",
     "text": [
      "False\n",
      "True\n",
      "False\n",
      "True\n",
      "True\n"
     ]
    }
   ],
   "source": [
    "x = True\n",
    "y = False\n",
    "print(x and y)\n",
    "print(x or y)\n",
    "print(not x)\n",
    "print(not y)\n",
    "print(not(x and y))"
   ]
  },
  {
   "cell_type": "markdown",
   "metadata": {},
   "source": [
    "### Membership operators"
   ]
  },
  {
   "cell_type": "code",
   "execution_count": 30,
   "metadata": {},
   "outputs": [
    {
     "name": "stdout",
     "output_type": "stream",
     "text": [
      "True\n",
      "True\n"
     ]
    }
   ],
   "source": [
    "a = \"fort\"\n",
    "b = \"nut\"\n",
    "my_string = \"fortunately\"\n",
    "print(a in my_string)\n",
    "print(b not in my_string)"
   ]
  },
  {
   "cell_type": "markdown",
   "metadata": {},
   "source": [
    "### Identity operators"
   ]
  },
  {
   "cell_type": "code",
   "execution_count": 31,
   "metadata": {},
   "outputs": [
    {
     "name": "stdout",
     "output_type": "stream",
     "text": [
      "True\n",
      "True\n"
     ]
    }
   ],
   "source": [
    "a = 20\n",
    "b = 20\n",
    "c = 40\n",
    "print(a is b)\n",
    "print(a is not c)"
   ]
  },
  {
   "cell_type": "code",
   "execution_count": null,
   "metadata": {},
   "outputs": [],
   "source": [
    "### Operators precedence"
   ]
  }
 ],
 "metadata": {
  "kernelspec": {
   "display_name": "Python 3",
   "language": "python",
   "name": "python3"
  },
  "language_info": {
   "codemirror_mode": {
    "name": "ipython",
    "version": 3
   },
   "file_extension": ".py",
   "mimetype": "text/x-python",
   "name": "python",
   "nbconvert_exporter": "python",
   "pygments_lexer": "ipython3",
   "version": "3.6.8"
  }
 },
 "nbformat": 4,
 "nbformat_minor": 2
}

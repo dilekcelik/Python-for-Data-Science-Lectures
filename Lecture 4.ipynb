{
 "cells": [
  {
   "cell_type": "code",
   "execution_count": 2,
   "metadata": {},
   "outputs": [
    {
     "name": "stdout",
     "output_type": "stream",
     "text": [
      "[]\n",
      "[5, 10, 20]\n",
      "[20, 'hello', 9.5]\n"
     ]
    }
   ],
   "source": [
    "# empty list\n",
    "listA = []\n",
    "\n",
    "# list of integers\n",
    "listB = [5, 10, 20]\n",
    "\n",
    "# list with mixed datatypes\n",
    "listC = [20, \"hello\", 9.5]\n",
    "\n",
    "print(listA)\n",
    "print(listB)\n",
    "print(listC)\n"
   ]
  },
  {
   "cell_type": "code",
   "execution_count": 5,
   "metadata": {},
   "outputs": [
    {
     "name": "stdout",
     "output_type": "stream",
     "text": [
      "python\n"
     ]
    }
   ],
   "source": [
    "# access elements of a simple list\n",
    "simpleList = [4, 'fine', 12.5, 'python', False]\n",
    "print(simpleList[3])"
   ]
  },
  {
   "cell_type": "code",
   "execution_count": 6,
   "metadata": {},
   "outputs": [
    {
     "name": "stdout",
     "output_type": "stream",
     "text": [
      "['apple', [6, [20, 40, 60], 30], ['a']]\n"
     ]
    }
   ],
   "source": [
    "nestedList = [\"apple\", [6, [20,40,60], 30], ['a']]\n",
    "print(nestedList)"
   ]
  },
  {
   "cell_type": "code",
   "execution_count": 8,
   "metadata": {},
   "outputs": [
    {
     "name": "stdout",
     "output_type": "stream",
     "text": [
      "[6, [20, 40, 60], 30]\n",
      "30\n"
     ]
    }
   ],
   "source": [
    "# access elements of a nested list\n",
    "nestedList = [\"apple\", [6, [20,40,60], 30], ['a']]\n",
    "print(nestedList[1])\n",
    "print((nestedList[1])[2])"
   ]
  },
  {
   "cell_type": "code",
   "execution_count": 9,
   "metadata": {},
   "outputs": [
    {
     "name": "stdout",
     "output_type": "stream",
     "text": [
      "o\n",
      "l\n"
     ]
    }
   ],
   "source": [
    "myList =['h', 'e', 'l', 'l', 'o']\n",
    "print(myList[-1])\n",
    "print(myList[-2])"
   ]
  },
  {
   "cell_type": "code",
   "execution_count": 10,
   "metadata": {},
   "outputs": [
    {
     "name": "stdout",
     "output_type": "stream",
     "text": [
      "[125, 10, 15]\n"
     ]
    }
   ],
   "source": [
    "my_list = [5, 10, 15]\n",
    "my_list[0] = 125\n",
    "print(my_list)"
   ]
  },
  {
   "cell_type": "code",
   "execution_count": 12,
   "metadata": {},
   "outputs": [
    {
     "name": "stdout",
     "output_type": "stream",
     "text": [
      "Oxygen\n",
      "Gold\n",
      "Potassium\n",
      "Silver\n",
      "Barium\n"
     ]
    }
   ],
   "source": [
    "chemicalList = ['Oxygen', 'Gold', 'Potassium', 'Silver', 'Barium']\n",
    "for i in chemicalList:\n",
    "    print(i)"
   ]
  },
  {
   "cell_type": "code",
   "execution_count": 9,
   "metadata": {},
   "outputs": [
    {
     "name": "stdout",
     "output_type": "stream",
     "text": [
      "7\n",
      "['England', 'America', 'Canada', 'Turkey', 'Japan', 'China', 'France']\n"
     ]
    }
   ],
   "source": [
    "myList = ['England', 'America', 'Canada', 'Turkey', 'Japan', 'China', 'France']\n",
    "# return the length of a list\n",
    "print(len(myList))\n",
    "# print the content of a list\n",
    "print(myList)\n"
   ]
  },
  {
   "cell_type": "code",
   "execution_count": 13,
   "metadata": {},
   "outputs": [
    {
     "name": "stdout",
     "output_type": "stream",
     "text": [
      "['England', 'America', 'Canada', 'Turkey', 'Japan', 'China', 'France', 'Germany']\n",
      "['England', 'Spain', 'America', 'Canada', 'Turkey', 'Japan', 'China', 'France', 'Germany']\n"
     ]
    }
   ],
   "source": [
    "myList = ['England', 'America', 'Canada', 'Turkey', 'Japan', 'China', 'France']\n",
    "\n",
    "# add an element\n",
    "myList.append('Germany')\n",
    "print(myList)\n",
    "\n",
    "myList.insert(1, 'Spain')\n",
    "print(myList)"
   ]
  },
  {
   "cell_type": "code",
   "execution_count": 14,
   "metadata": {},
   "outputs": [
    {
     "name": "stdout",
     "output_type": "stream",
     "text": [
      "['England', 'America', 'Canada', 'Turkey', 'Japan', 'China', 'France']\n",
      "['America', 'Canada', 'China', 'England', 'France', 'Japan', 'Turkey']\n",
      "['Turkey', 'Japan', 'France', 'England', 'China', 'Canada', 'America']\n"
     ]
    }
   ],
   "source": [
    "myList = ['England', 'America', 'Canada', 'Turkey', 'Japan', 'China', 'France']\n",
    "\n",
    "\n",
    "print(myList)\n",
    "# sort a list in ascending order, the result is put in the initial list 'myList'\n",
    "myList.sort()\n",
    "print(myList)\n",
    "# reverse a list, result put in initial list 'myList'\n",
    "myList.reverse()\n",
    "print(myList)"
   ]
  },
  {
   "cell_type": "code",
   "execution_count": 15,
   "metadata": {},
   "outputs": [
    {
     "name": "stdout",
     "output_type": "stream",
     "text": [
      "1\n",
      "3\n"
     ]
    }
   ],
   "source": [
    "myList = ['England', 'America', 'Canada', 'Turkey', 'Japan', 'China', 'France']\n",
    "\n",
    "# return the number of occurences of an element of a list\n",
    "print(myList.count('England'))\n",
    "\n",
    "# return the lowest index of the element\n",
    "# If not found, it raises a ValueError exception indicating the element is not in the list.\n",
    "print(myList.index('Turkey'))\n",
    "\n",
    "#print(myList.index('France')) # raises an error"
   ]
  },
  {
   "cell_type": "code",
   "execution_count": 17,
   "metadata": {},
   "outputs": [
    {
     "name": "stdout",
     "output_type": "stream",
     "text": [
      "[]\n"
     ]
    }
   ],
   "source": [
    "myList = ['England', 'America', 'Canada', 'Turkey', 'Japan', 'China', 'France']\n",
    "\n",
    "# clear a list - remove all its elements\n",
    "myList.clear()\n",
    "print(myList)\n",
    "\n",
    "# delete entire list\n",
    "del myList\n",
    "#print(myList) # raises an error as no longer exists"
   ]
  },
  {
   "cell_type": "code",
   "execution_count": 19,
   "metadata": {},
   "outputs": [
    {
     "name": "stdout",
     "output_type": "stream",
     "text": [
      "11\n",
      "400\n",
      "583\n"
     ]
    }
   ],
   "source": [
    "nList = [123, 33, 16, 400, 11]\n",
    "print(min(nList))\n",
    "print(max(nList))\n",
    "print(sum(nList))"
   ]
  },
  {
   "cell_type": "code",
   "execution_count": 21,
   "metadata": {},
   "outputs": [
    {
     "name": "stdout",
     "output_type": "stream",
     "text": [
      "None\n"
     ]
    }
   ],
   "source": [
    "nList = [3, 5, 1, 20]\n",
    "nList = nList.sort()\n",
    "print(nList) # what happened?"
   ]
  },
  {
   "cell_type": "code",
   "execution_count": 25,
   "metadata": {},
   "outputs": [
    {
     "name": "stdout",
     "output_type": "stream",
     "text": [
      "[2, 4, 6, 8, 10, 12, 14, 16, 18]\n"
     ]
    }
   ],
   "source": [
    "# Using a for loop\n",
    "doubles = []\n",
    "for i in range(1,10):\n",
    "    doubles.append(i*2)\n",
    "print(doubles)"
   ]
  },
  {
   "cell_type": "code",
   "execution_count": 26,
   "metadata": {},
   "outputs": [
    {
     "name": "stdout",
     "output_type": "stream",
     "text": [
      "[2, 4, 6, 8, 10, 12, 14, 16, 18]\n"
     ]
    }
   ],
   "source": [
    "# Using list comprehension\n",
    "even = [i*2 for i in range(1,10)]\n",
    "print(even)"
   ]
  },
  {
   "cell_type": "code",
   "execution_count": 27,
   "metadata": {},
   "outputs": [
    {
     "name": "stdout",
     "output_type": "stream",
     "text": [
      "[(1, 3), (1, 4), (2, 3), (2, 1), (2, 4), (3, 1), (3, 4)]\n"
     ]
    }
   ],
   "source": [
    "dissimilarPairs = [(x,y) for x in [1,2,3] for y in [3,1,4] if x != y]\n",
    "print(dissimilarPairs)"
   ]
  },
  {
   "cell_type": "markdown",
   "metadata": {},
   "source": [
    "### TUPLES"
   ]
  },
  {
   "cell_type": "code",
   "execution_count": 2,
   "metadata": {},
   "outputs": [
    {
     "name": "stdout",
     "output_type": "stream",
     "text": [
      "(3, 4, 5)\n"
     ]
    }
   ],
   "source": [
    "t1 = (3, 4, 5)\n",
    "print(t1)"
   ]
  },
  {
   "cell_type": "code",
   "execution_count": 1,
   "metadata": {},
   "outputs": [
    {
     "name": "stdout",
     "output_type": "stream",
     "text": [
      "(1, 2, 3)\n"
     ]
    }
   ],
   "source": [
    "#They may be input with or without surrounding parentheses, although often parentheses \n",
    "#are necessary anyway (if the tuple is part of a larger expression).\n",
    "\n",
    "t2 = 1, 2, 3\n",
    "print(t2)"
   ]
  },
  {
   "cell_type": "code",
   "execution_count": 4,
   "metadata": {},
   "outputs": [
    {
     "name": "stdout",
     "output_type": "stream",
     "text": [
      "('Hello', 44, (1, 2, 3))\n"
     ]
    }
   ],
   "source": [
    "t3 = ('Hello', 44, (1, 2, 3))\n",
    "print(t3)"
   ]
  },
  {
   "cell_type": "code",
   "execution_count": 6,
   "metadata": {},
   "outputs": [
    {
     "name": "stdout",
     "output_type": "stream",
     "text": [
      "(10, ['a', 'b', 'c'], 'world')\n"
     ]
    }
   ],
   "source": [
    "t4 = (10, ['a', 'b', 'c'], 'world')\n",
    "print(t4)"
   ]
  },
  {
   "cell_type": "code",
   "execution_count": 9,
   "metadata": {},
   "outputs": [
    {
     "name": "stdout",
     "output_type": "stream",
     "text": [
      "()\n",
      "(10,)\n"
     ]
    }
   ],
   "source": [
    "# Empty tuple\n",
    "tup1 = ()\n",
    "print(tup1)\n",
    "\n",
    "# Tuple for a single value\n",
    "tup2 = (10,) # the comma is needed to distinguish between a tuple and a value surr ounded by parentheses\n",
    "print(tup2)"
   ]
  },
  {
   "cell_type": "code",
   "execution_count": 8,
   "metadata": {},
   "outputs": [
    {
     "name": "stdout",
     "output_type": "stream",
     "text": [
      "<class 'tuple'>\n"
     ]
    }
   ],
   "source": [
    "print(type(tup2))"
   ]
  },
  {
   "cell_type": "code",
   "execution_count": 10,
   "metadata": {},
   "outputs": [
    {
     "name": "stdout",
     "output_type": "stream",
     "text": [
      "('Dell', 2000, 'Computing')\n"
     ]
    }
   ],
   "source": [
    "x = ('Dell', 2000, 'Computing') # tuple packing\n",
    "print(x)"
   ]
  },
  {
   "cell_type": "code",
   "execution_count": 11,
   "metadata": {},
   "outputs": [
    {
     "name": "stdout",
     "output_type": "stream",
     "text": [
      "Dell\n",
      "2000\n",
      "Computing\n"
     ]
    }
   ],
   "source": [
    "(company, emp, activity) = x # tuple unpacking\n",
    "print(company)\n",
    "print(emp)\n",
    "print(activity)"
   ]
  },
  {
   "cell_type": "code",
   "execution_count": 12,
   "metadata": {
    "scrolled": true
   },
   "outputs": [
    {
     "name": "stdout",
     "output_type": "stream",
     "text": [
      "('March', 10, 2021)\n"
     ]
    },
    {
     "ename": "NameError",
     "evalue": "name 'myTuple' is not defined",
     "output_type": "error",
     "traceback": [
      "\u001b[0;31m---------------------------------------------------------------------------\u001b[0m",
      "\u001b[0;31mNameError\u001b[0m                                 Traceback (most recent call last)",
      "\u001b[0;32m<ipython-input-12-1c41d0cb93c0>\u001b[0m in \u001b[0;36m<module>\u001b[0;34m()\u001b[0m\n\u001b[1;32m      2\u001b[0m \u001b[0mprint\u001b[0m\u001b[0;34m(\u001b[0m\u001b[0mmyTuple\u001b[0m\u001b[0;34m)\u001b[0m\u001b[0;34m\u001b[0m\u001b[0;34m\u001b[0m\u001b[0m\n\u001b[1;32m      3\u001b[0m \u001b[0;32mdel\u001b[0m \u001b[0mmyTuple\u001b[0m\u001b[0;34m\u001b[0m\u001b[0;34m\u001b[0m\u001b[0m\n\u001b[0;32m----> 4\u001b[0;31m \u001b[0mprint\u001b[0m\u001b[0;34m(\u001b[0m\u001b[0mmyTuple\u001b[0m\u001b[0;34m)\u001b[0m \u001b[0;31m# raise an error\u001b[0m\u001b[0;34m\u001b[0m\u001b[0;34m\u001b[0m\u001b[0m\n\u001b[0m",
      "\u001b[0;31mNameError\u001b[0m: name 'myTuple' is not defined"
     ]
    }
   ],
   "source": [
    "myTuple = ('March', 10, 2021)\n",
    "print(myTuple)\n",
    "del myTuple\n",
    "print(myTuple) # raise an error"
   ]
  },
  {
   "cell_type": "markdown",
   "metadata": {},
   "source": [
    "### SETS"
   ]
  },
  {
   "cell_type": "code",
   "execution_count": 13,
   "metadata": {},
   "outputs": [
    {
     "name": "stdout",
     "output_type": "stream",
     "text": [
      "{'January', 'February', 'March'}\n"
     ]
    }
   ],
   "source": [
    "mySet = {'January', 'February', 'March'}\n",
    "print(mySet)\n",
    "\n",
    "anotherSet = set()"
   ]
  },
  {
   "cell_type": "code",
   "execution_count": 15,
   "metadata": {},
   "outputs": [
    {
     "name": "stdout",
     "output_type": "stream",
     "text": [
      "{'a', 'b', 'c'}\n"
     ]
    }
   ],
   "source": [
    "# Create a set from a list using the set() method\n",
    "anotherSet = set(['a', 'b', 'c', 'b'])\n",
    "print(anotherSet) # removes duplicates elements"
   ]
  },
  {
   "cell_type": "code",
   "execution_count": 16,
   "metadata": {},
   "outputs": [
    {
     "name": "stdout",
     "output_type": "stream",
     "text": [
      "{}\n"
     ]
    }
   ],
   "source": [
    "mySet ={} # empty set\n",
    "print(mySet)"
   ]
  },
  {
   "cell_type": "code",
   "execution_count": 18,
   "metadata": {},
   "outputs": [
    {
     "name": "stdout",
     "output_type": "stream",
     "text": [
      "{'cherry', 'apple', 'banana'}\n",
      "True\n",
      "True\n"
     ]
    }
   ],
   "source": [
    "fruits = {'apple', 'banana', 'cherry', 'apple'}\n",
    "print(fruits) # show that duplicates have been removed\n",
    "\n",
    "print('banana' in fruits) # fast membership testing\n",
    "\n",
    "print('cherry' in fruits)"
   ]
  },
  {
   "cell_type": "code",
   "execution_count": 21,
   "metadata": {},
   "outputs": [
    {
     "name": "stdout",
     "output_type": "stream",
     "text": [
      "{'d', 'a', 'r', 'b', 'c'}\n",
      "{'d', 'b', 'r'}\n",
      "{'d', 'l', 'm', 'a', 'z', 'r', 'b', 'c'}\n",
      "{'a', 'c'}\n",
      "{'b', 'z', 'r', 'd', 'l', 'm'}\n"
     ]
    }
   ],
   "source": [
    "# Demonstrate set operations on unique letters from two words\n",
    "word1 = set('abracadabra')\n",
    "word2 = set('alacazam')\n",
    "\n",
    "print(word1) # unique letters in word1\n",
    "#{'a', 'r', 'b', 'c', 'd’}\n",
    "\n",
    "print(word1 - word2) # letters in a but not in word2\n",
    "#{'r', 'd', 'b’}\n",
    "\n",
    "print(word1 | word2) # letters in either word1 or word2\n",
    "#{'a', 'c', 'r', 'd', 'b', 'm', 'z', 'l’}\n",
    "\n",
    "print(word1 & word2) # letters in both word1 and word2\n",
    "#{'a', 'c’}\n",
    "\n",
    "print(word1 ^ word2) # letters in word1 or word2 but not both\n",
    "#{'r', 'd', 'b', 'm', 'z', 'l'}"
   ]
  },
  {
   "cell_type": "code",
   "execution_count": 2,
   "metadata": {
    "scrolled": true
   },
   "outputs": [
    {
     "name": "stdout",
     "output_type": "stream",
     "text": [
      "{'melissa': 1122, 'john': 3344, 'lisa': 1929}\n",
      "1122\n",
      "{'melissa': 1122, 'lisa': 8899}\n"
     ]
    }
   ],
   "source": [
    "# create a dictionary\n",
    "phoneBook = {'melissa': 1122, 'john': 3344}\n",
    "\n",
    "# add an key:value pair to the dictionary\n",
    "phoneBook['lisa'] = 1929\n",
    "print(phoneBook)\n",
    "print(phoneBook['melissa'])\n",
    "\n",
    "# delete a key:value pair\n",
    "del phoneBook['john']\n",
    "\n",
    "# update the value of an existing key\n",
    "phoneBook['lisa'] = 8899\n",
    "print(phoneBook)"
   ]
  },
  {
   "cell_type": "code",
   "execution_count": 26,
   "metadata": {},
   "outputs": [
    {
     "name": "stdout",
     "output_type": "stream",
     "text": [
      "['melissa', 'lisa', 'karen']\n",
      "['karen', 'lisa', 'melissa']\n",
      "True\n",
      "False\n",
      "[1122, 1929, 8899]\n"
     ]
    }
   ],
   "source": [
    "# get list of keys\n",
    "print(list(phoneBook.keys()))\n",
    "\n",
    "# sort list of keys\n",
    "print(sorted(phoneBook.keys()))\n",
    "\n",
    "# test if key exists in dictionary\n",
    "print('lisa' in phoneBook)\n",
    "\n",
    "print('melissa' not in phoneBook)\n",
    "#False\n",
    "\n",
    "# sort list of values\n",
    "print(sorted(phoneBook.values()))\n"
   ]
  },
  {
   "cell_type": "code",
   "execution_count": null,
   "metadata": {},
   "outputs": [],
   "source": []
  }
 ],
 "metadata": {
  "kernelspec": {
   "display_name": "Python 3",
   "language": "python",
   "name": "python3"
  },
  "language_info": {
   "codemirror_mode": {
    "name": "ipython",
    "version": 3
   },
   "file_extension": ".py",
   "mimetype": "text/x-python",
   "name": "python",
   "nbconvert_exporter": "python",
   "pygments_lexer": "ipython3",
   "version": "3.6.8"
  }
 },
 "nbformat": 4,
 "nbformat_minor": 2
}
